{
 "cells": [
  {
   "cell_type": "markdown",
   "id": "1cc67462",
   "metadata": {},
   "source": [
    "## A6: Imputation via Regression for Missing Data \n",
    "Submitted by Siddharth Nair, CE22B106\n",
    "\n",
    "---\n",
    "\n",
    "### Part A: Data Preprocessing and Imputation\n",
    "#### Import all the necessary libraries"
   ]
  },
  {
   "cell_type": "code",
   "execution_count": 1,
   "id": "b961248e",
   "metadata": {},
   "outputs": [],
   "source": [
    "import pandas as pd\n",
    "import numpy as np\n",
    "import matplotlib.pyplot as plt\n",
    "import seaborn as sns\n",
    "from sklearn.model_selection import train_test_split\n",
    "from sklearn.preprocessing import StandardScaler\n",
    "from sklearn.linear_model import LinearRegression, LogisticRegression\n",
    "from sklearn.neighbors import KNeighborsRegressor\n",
    "from sklearn.tree import DecisionTreeRegressor\n",
    "from sklearn.metrics import classification_report, accuracy_score\n",
    "from sklearn.impute import SimpleImputer\n",
    "import warnings\n",
    "warnings.filterwarnings('ignore')"
   ]
  },
  {
   "cell_type": "markdown",
   "id": "e5304839",
   "metadata": {},
   "source": [
    "#### Understand the data"
   ]
  },
  {
   "cell_type": "code",
   "execution_count": 2,
   "id": "c711f8a0",
   "metadata": {},
   "outputs": [
    {
     "name": "stdout",
     "output_type": "stream",
     "text": [
      "Dataset shape: (30000, 25)\n",
      "\n",
      "Column names:\n",
      "['ID', 'LIMIT_BAL', 'SEX', 'EDUCATION', 'MARRIAGE', 'AGE', 'PAY_0', 'PAY_2', 'PAY_3', 'PAY_4', 'PAY_5', 'PAY_6', 'BILL_AMT1', 'BILL_AMT2', 'BILL_AMT3', 'BILL_AMT4', 'BILL_AMT5', 'BILL_AMT6', 'PAY_AMT1', 'PAY_AMT2', 'PAY_AMT3', 'PAY_AMT4', 'PAY_AMT5', 'PAY_AMT6', 'default.payment.next.month']\n",
      "\n",
      "First few rows:\n",
      "   ID  LIMIT_BAL  SEX  EDUCATION  MARRIAGE  AGE  PAY_0  PAY_2  PAY_3  PAY_4  \\\n",
      "0   1    20000.0    2          2         1   24      2      2     -1     -1   \n",
      "1   2   120000.0    2          2         2   26     -1      2      0      0   \n",
      "2   3    90000.0    2          2         2   34      0      0      0      0   \n",
      "3   4    50000.0    2          2         1   37      0      0      0      0   \n",
      "4   5    50000.0    1          2         1   57     -1      0     -1      0   \n",
      "\n",
      "   ...  BILL_AMT4  BILL_AMT5  BILL_AMT6  PAY_AMT1  PAY_AMT2  PAY_AMT3  \\\n",
      "0  ...        0.0        0.0        0.0       0.0     689.0       0.0   \n",
      "1  ...     3272.0     3455.0     3261.0       0.0    1000.0    1000.0   \n",
      "2  ...    14331.0    14948.0    15549.0    1518.0    1500.0    1000.0   \n",
      "3  ...    28314.0    28959.0    29547.0    2000.0    2019.0    1200.0   \n",
      "4  ...    20940.0    19146.0    19131.0    2000.0   36681.0   10000.0   \n",
      "\n",
      "   PAY_AMT4  PAY_AMT5  PAY_AMT6  default.payment.next.month  \n",
      "0       0.0       0.0       0.0                           1  \n",
      "1    1000.0       0.0    2000.0                           1  \n",
      "2    1000.0    1000.0    5000.0                           0  \n",
      "3    1100.0    1069.0    1000.0                           0  \n",
      "4    9000.0     689.0     679.0                           0  \n",
      "\n",
      "[5 rows x 25 columns]\n",
      "\n",
      "Data types:\n",
      "ID                              int64\n",
      "LIMIT_BAL                     float64\n",
      "SEX                             int64\n",
      "EDUCATION                       int64\n",
      "MARRIAGE                        int64\n",
      "AGE                             int64\n",
      "PAY_0                           int64\n",
      "PAY_2                           int64\n",
      "PAY_3                           int64\n",
      "PAY_4                           int64\n",
      "PAY_5                           int64\n",
      "PAY_6                           int64\n",
      "BILL_AMT1                     float64\n",
      "BILL_AMT2                     float64\n",
      "BILL_AMT3                     float64\n",
      "BILL_AMT4                     float64\n",
      "BILL_AMT5                     float64\n",
      "BILL_AMT6                     float64\n",
      "PAY_AMT1                      float64\n",
      "PAY_AMT2                      float64\n",
      "PAY_AMT3                      float64\n",
      "PAY_AMT4                      float64\n",
      "PAY_AMT5                      float64\n",
      "PAY_AMT6                      float64\n",
      "default.payment.next.month      int64\n",
      "dtype: object\n",
      "\n",
      "Missing values (original):\n",
      "ID                            0\n",
      "LIMIT_BAL                     0\n",
      "SEX                           0\n",
      "EDUCATION                     0\n",
      "MARRIAGE                      0\n",
      "AGE                           0\n",
      "PAY_0                         0\n",
      "PAY_2                         0\n",
      "PAY_3                         0\n",
      "PAY_4                         0\n",
      "PAY_5                         0\n",
      "PAY_6                         0\n",
      "BILL_AMT1                     0\n",
      "BILL_AMT2                     0\n",
      "BILL_AMT3                     0\n",
      "BILL_AMT4                     0\n",
      "BILL_AMT5                     0\n",
      "BILL_AMT6                     0\n",
      "PAY_AMT1                      0\n",
      "PAY_AMT2                      0\n",
      "PAY_AMT3                      0\n",
      "PAY_AMT4                      0\n",
      "PAY_AMT5                      0\n",
      "PAY_AMT6                      0\n",
      "default.payment.next.month    0\n",
      "dtype: int64\n"
     ]
    }
   ],
   "source": [
    "# Load the UCI Credit Card dataset\n",
    "df = pd.read_csv(r\"C:\\Users\\Siddharth Nair\\OneDrive\\Desktop\\DA5401 Assignments\\A6\\UCI_Credit_Card.csv\")\n",
    "# Display basic information about the dataset\n",
    "print(\"Dataset shape:\", df.shape)\n",
    "print(\"\\nColumn names:\")\n",
    "print(df.columns.tolist())\n",
    "print(\"\\nFirst few rows:\")\n",
    "print(df.head())\n",
    "print(\"\\nData types:\")\n",
    "print(df.dtypes)\n",
    "print(\"\\nMissing values (original):\")\n",
    "print(df.isnull().sum())\n"
   ]
  },
  {
   "cell_type": "markdown",
   "id": "b3c14e27",
   "metadata": {},
   "source": [
    "#### There are no missing values. Hence, artificially introduce Missing At Random values in `AGE` and `BILL_AMT1` columns with a missing rate of 7% and 8% respectively"
   ]
  },
  {
   "cell_type": "code",
   "execution_count": 3,
   "id": "2ffb86a6",
   "metadata": {},
   "outputs": [
    {
     "name": "stdout",
     "output_type": "stream",
     "text": [
      "Introduced 2100 missing values in AGE column (7.0%)\n",
      "Introduced 2400 missing values in BILL_AMT1 column (8.0%)\n",
      "\n",
      "Missing values after introduction:\n",
      "AGE          2100\n",
      "BILL_AMT1    2400\n",
      "dtype: int64\n",
      "\n",
      "Dataset shape after preprocessing: (30000, 24)\n",
      "Target variable: 'default.payment.next.month'\n",
      "Target distribution:\n",
      "default.payment.next.month\n",
      "0    23364\n",
      "1     6636\n",
      "Name: count, dtype: int64\n",
      "\n",
      "Skewness analysis:\n",
      "AGE skewness: 0.731\n",
      "BILL_AMT1 skewness: 2.628\n",
      "(Values > 1 or < -1 indicate significant skewness, where median is preferable)\n"
     ]
    }
   ],
   "source": [
    "# Part A.1: Load and Prepare Data - Artificially introduce MAR missing values\n",
    "# Set random seed for reproducibility\n",
    "np.random.seed(42)\n",
    "\n",
    "# Make a copy of the original dataset\n",
    "df_original = df.copy()\n",
    "\n",
    "# Remove the ID column as it's not needed for modeling\n",
    "df_work = df.drop('ID', axis=1).copy()\n",
    "\n",
    "# Introduce Missing At Random (MAR) values in AGE and BILL_AMT1 columns (5-10%)\n",
    "missing_percentage_age = 0.07  # 7% missing\n",
    "missing_percentage_bill = 0.08  # 8% missing\n",
    "\n",
    "# Create missing indices for AGE\n",
    "n_missing_age = int(len(df_work) * missing_percentage_age)\n",
    "missing_idx_age = np.random.choice(df_work.index, size=n_missing_age, replace=False)\n",
    "\n",
    "# Create missing indices for BILL_AMT1\n",
    "n_missing_bill = int(len(df_work) * missing_percentage_bill)\n",
    "missing_idx_bill = np.random.choice(df_work.index, size=n_missing_bill, replace=False)\n",
    "\n",
    "# Introduce missing values\n",
    "df_work.loc[missing_idx_age, 'AGE'] = np.nan\n",
    "df_work.loc[missing_idx_bill, 'BILL_AMT1'] = np.nan\n",
    "\n",
    "print(f\"Introduced {n_missing_age} missing values in AGE column ({missing_percentage_age*100:.1f}%)\")\n",
    "print(f\"Introduced {n_missing_bill} missing values in BILL_AMT1 column ({missing_percentage_bill*100:.1f}%)\")\n",
    "\n",
    "print(\"\\nMissing values after introduction:\")\n",
    "print(df_work.isnull().sum()[df_work.isnull().sum() > 0])\n",
    "\n",
    "print(f\"\\nDataset shape after preprocessing: {df_work.shape}\")\n",
    "print(f\"Target variable: 'default.payment.next.month'\")\n",
    "print(f\"Target distribution:\")\n",
    "print(df_work['default.payment.next.month'].value_counts())\n",
    "\n",
    "# Check skewness of the columns we're imputing\n",
    "print(f\"\\nSkewness analysis:\")\n",
    "print(f\"AGE skewness: {df_work['AGE'].skew():.3f}\")\n",
    "print(f\"BILL_AMT1 skewness: {df_work['BILL_AMT1'].skew():.3f}\")\n",
    "print(\"(Values > 1 or < -1 indicate significant skewness, where median is preferable)\")"
   ]
  },
  {
   "cell_type": "markdown",
   "id": "c924d596",
   "metadata": {},
   "source": [
    "#### Let's impute the misssing values via simple imputation using median values"
   ]
  },
  {
   "cell_type": "code",
   "execution_count": 7,
   "id": "7e613c85",
   "metadata": {},
   "outputs": [
    {
     "name": "stdout",
     "output_type": "stream",
     "text": [
      "Median imputation completed for Dataset A\n",
      "AGE median value used: 34.0\n",
      "BILL_AMT1 median value used: 22518.5\n",
      "\n",
      "Missing values in Dataset A after imputation:\n",
      "0\n"
     ]
    }
   ],
   "source": [
    "# Part A.2: Imputation Strategy 1 - Simple Imputation (Baseline)\n",
    "# Create Dataset A with median imputation\n",
    "dataset_A = df_work.copy()\n",
    "\n",
    "# Impute missing values with median\n",
    "median_age = dataset_A['AGE'].median()\n",
    "median_bill_amt1 = dataset_A['BILL_AMT1'].median()\n",
    "\n",
    "dataset_A['AGE'] = dataset_A['AGE'].fillna(median_age)\n",
    "dataset_A['BILL_AMT1'] = dataset_A['BILL_AMT1'].fillna(median_bill_amt1)\n",
    "\n",
    "print(f\"Median imputation completed for Dataset A\")\n",
    "print(f\"AGE median value used: {median_age}\")\n",
    "print(f\"BILL_AMT1 median value used: {median_bill_amt1}\")\n",
    "\n",
    "# Verify no missing values remain\n",
    "print(f\"\\nMissing values in Dataset A after imputation:\")\n",
    "print(dataset_A.isnull().sum().sum())\n"
   ]
  },
  {
   "cell_type": "markdown",
   "id": "f972ea45",
   "metadata": {},
   "source": [
    "#### Why Median over Mean?\n",
    "1. Median is less affected by extreme values.\n",
    "2. Many real-world features are skewed, and median better represents central tendency.\n",
    "3. Median imputation maintains the original distribution better\n",
    "\n",
    "#### Let's impute the missing values using Linear Regression"
   ]
  },
  {
   "cell_type": "code",
   "execution_count": 8,
   "id": "3d220145",
   "metadata": {},
   "outputs": [
    {
     "name": "stdout",
     "output_type": "stream",
     "text": [
      "Chosen column for regression imputation: BILL_AMT1\n",
      "Rows with BILL_AMT1 values: 27600\n",
      "Rows missing BILL_AMT1 values: 2400\n",
      "Features used for prediction: 22 columns\n",
      "\n",
      "Linear Regression imputation completed for Dataset B\n",
      "R-squared score on training data: 0.9300\n",
      "Missing values in Dataset B after imputation: 0\n"
     ]
    }
   ],
   "source": [
    "# Part A.3: Imputation Strategy 2 - Regression Imputation (Linear)\n",
    "# Create Dataset B with linear regression imputation\n",
    "dataset_B = df_work.copy()\n",
    "\n",
    "# Choose BILL_AMT1 for regression imputation (as it has more missing values and may have better predictive relationships)\n",
    "target_column = 'BILL_AMT1'\n",
    "print(f\"Chosen column for regression imputation: {target_column}\")\n",
    "\n",
    "# First, handle missing values in AGE with median for Dataset B (to use as predictor)\n",
    "dataset_B['AGE'] = dataset_B['AGE'].fillna(dataset_B['AGE'].median())\n",
    "\n",
    "# Separate rows with and without missing BILL_AMT1\n",
    "has_bill_amt1 = dataset_B[target_column].notna()\n",
    "missing_bill_amt1 = dataset_B[target_column].isna()\n",
    "\n",
    "print(f\"Rows with {target_column} values: {has_bill_amt1.sum()}\")\n",
    "print(f\"Rows missing {target_column} values: {missing_bill_amt1.sum()}\")\n",
    "\n",
    "# Prepare feature matrix (all columns except target and outcome variable)\n",
    "feature_columns = [col for col in dataset_B.columns if col not in [target_column, 'default.payment.next.month']]\n",
    "print(f\"Features used for prediction: {len(feature_columns)} columns\")\n",
    "\n",
    "# Get training data (non-missing rows)\n",
    "X_train = dataset_B.loc[has_bill_amt1, feature_columns]\n",
    "y_train = dataset_B.loc[has_bill_amt1, target_column]\n",
    "\n",
    "# Get prediction data (missing rows)\n",
    "X_predict = dataset_B.loc[missing_bill_amt1, feature_columns]\n",
    "\n",
    "# Train Linear Regression model\n",
    "lr_model = LinearRegression()\n",
    "lr_model.fit(X_train, y_train)\n",
    "\n",
    "# Predict missing values\n",
    "predicted_values = lr_model.predict(X_predict)\n",
    "\n",
    "# Fill missing values with predictions\n",
    "dataset_B.loc[missing_bill_amt1, target_column] = predicted_values\n",
    "\n",
    "print(f\"\\nLinear Regression imputation completed for Dataset B\")\n",
    "print(f\"R-squared score on training data: {lr_model.score(X_train, y_train):.4f}\")\n",
    "\n",
    "# Verify no missing values remain\n",
    "print(f\"Missing values in Dataset B after imputation: {dataset_B.isnull().sum().sum()}\")\n"
   ]
  },
  {
   "cell_type": "markdown",
   "id": "b538e1f1",
   "metadata": {},
   "source": [
    "#### Linear Regression Imputation assumes MAR, meaning:\n",
    "1. The probability of missingness depends on observed variables, not unobserved ones.\n",
    "2. Once we condition on observed features, missingness is random.\n",
    "3. The relationship between the missing variable and predictors is linear.\n",
    "4. This allows us to use observed data to predict missing values systematically\n",
    "\n",
    "#### Let's impute the missing values using non-linear regression techniques like K-Nearest Neighbours Regression"
   ]
  },
  {
   "cell_type": "code",
   "execution_count": 9,
   "id": "7d033a10",
   "metadata": {},
   "outputs": [
    {
     "name": "stdout",
     "output_type": "stream",
     "text": [
      "Chosen column for non-linear regression imputation: BILL_AMT1\n",
      "K-Nearest Neighbors Regression imputation completed for Dataset C\n",
      "Number of neighbors used: 5\n",
      "Weight function: distance-based\n",
      "\n",
      "--- Alternative: Decision Tree Regression ---\n",
      "Decision Tree parameters: max_depth=10, min_samples_split=50\n",
      "Feature importance (top 5):\n",
      "      feature  importance\n",
      "11  BILL_AMT2    0.957370\n",
      "16   PAY_AMT1    0.020529\n",
      "21   PAY_AMT6    0.002978\n",
      "12  BILL_AMT3    0.002818\n",
      "0   LIMIT_BAL    0.002696\n",
      "\n",
      "Using KNN Regression for final Dataset C\n",
      "Missing values in Dataset C after imputation: 0\n"
     ]
    }
   ],
   "source": [
    "# Part A.4: Imputation Strategy 3 - Regression Imputation (Non-Linear)\n",
    "# Create Dataset C with non-linear regression imputation\n",
    "dataset_C = df_work.copy()\n",
    "\n",
    "# Use the same target column (BILL_AMT1) for consistency\n",
    "target_column = 'BILL_AMT1'\n",
    "print(f\"Chosen column for non-linear regression imputation: {target_column}\")\n",
    "\n",
    "# First, handle missing values in AGE with median for Dataset C\n",
    "dataset_C['AGE'] = dataset_C['AGE'].fillna(dataset_C['AGE'].median())\n",
    "\n",
    "# Separate rows with and without missing BILL_AMT1\n",
    "has_bill_amt1_c = dataset_C[target_column].notna()\n",
    "missing_bill_amt1_c = dataset_C[target_column].isna()\n",
    "\n",
    "# Prepare feature matrix\n",
    "feature_columns = [col for col in dataset_C.columns if col not in [target_column, 'default.payment.next.month']]\n",
    "\n",
    "# Get training and prediction data\n",
    "X_train_c = dataset_C.loc[has_bill_amt1_c, feature_columns]\n",
    "y_train_c = dataset_C.loc[has_bill_amt1_c, target_column]\n",
    "X_predict_c = dataset_C.loc[missing_bill_amt1_c, feature_columns]\n",
    "\n",
    "# Try K-Nearest Neighbors Regression for non-linear imputation\n",
    "knn_model = KNeighborsRegressor(n_neighbors=5, weights='distance')\n",
    "knn_model.fit(X_train_c, y_train_c)\n",
    "\n",
    "# Predict missing values\n",
    "predicted_values_knn = knn_model.predict(X_predict_c)\n",
    "\n",
    "# Fill missing values with predictions\n",
    "dataset_C.loc[missing_bill_amt1_c, target_column] = predicted_values_knn\n",
    "\n",
    "print(f\"K-Nearest Neighbors Regression imputation completed for Dataset C\")\n",
    "print(f\"Number of neighbors used: 5\")\n",
    "print(f\"Weight function: distance-based\")\n",
    "\n",
    "# Also try Decision Tree Regression as alternative\n",
    "print(f\"\\n--- Alternative: Decision Tree Regression ---\")\n",
    "dataset_C_dt = df_work.copy()\n",
    "dataset_C_dt['AGE'] = dataset_C_dt['AGE'].fillna(dataset_C_dt['AGE'].median())\n",
    "\n",
    "# Decision Tree Regression\n",
    "dt_model = DecisionTreeRegressor(max_depth=10, min_samples_split=50, random_state=42)\n",
    "dt_model.fit(X_train_c, y_train_c)\n",
    "predicted_values_dt = dt_model.predict(X_predict_c)\n",
    "\n",
    "print(f\"Decision Tree parameters: max_depth=10, min_samples_split=50\")\n",
    "print(f\"Feature importance (top 5):\")\n",
    "feature_importance = pd.DataFrame({\n",
    "    'feature': feature_columns,\n",
    "    'importance': dt_model.feature_importances_\n",
    "}).sort_values('importance', ascending=False)\n",
    "print(feature_importance.head())\n",
    "\n",
    "# Use KNN for Dataset C \n",
    "print(f\"\\nUsing KNN Regression for final Dataset C\")\n",
    "\n",
    "# Verify no missing values remain\n",
    "print(f\"Missing values in Dataset C after imputation: {dataset_C.isnull().sum().sum()}\")"
   ]
  },
  {
   "cell_type": "markdown",
   "id": "f17ae98e",
   "metadata": {},
   "source": [
    "#### All missing values are now imputed using various techniques\n",
    "\n",
    "---\n",
    "\n",
    "### Part B: Model Training and Performance Assessment\n",
    "\n",
    "#### Let's split the data into training and testing sets for all 3 imputed sets. Also, create another dataset by ignoring rows with missing values"
   ]
  },
  {
   "cell_type": "code",
   "execution_count": 13,
   "id": "bcfd0759",
   "metadata": {},
   "outputs": [
    {
     "name": "stdout",
     "output_type": "stream",
     "text": [
      "Dataset D (Listwise Deletion) shape: (25676, 24)\n",
      "Original dataset shape: (30000, 24)\n",
      "Rows removed: 4324 (14.4%)\n",
      "\n",
      "Dataset A (Median Imputation):\n",
      "  Training set: 24000 samples\n",
      "  Test set: 6000 samples\n",
      "  Features: 23 columns\n",
      "  Training mean: LIMIT_BAL    167364.666667\n",
      "SEX               1.604750\n",
      "EDUCATION         1.853792\n",
      "MARRIAGE          1.552875\n",
      "AGE              35.319917\n",
      "PAY_0            -0.014125\n",
      "PAY_2            -0.134083\n",
      "PAY_3            -0.166917\n",
      "PAY_4            -0.221333\n",
      "PAY_5            -0.270333\n",
      "PAY_6            -0.293333\n",
      "BILL_AMT1     48933.557875\n",
      "BILL_AMT2     49012.267583\n",
      "BILL_AMT3     46861.880083\n",
      "BILL_AMT4     43156.661458\n",
      "BILL_AMT5     40164.412625\n",
      "BILL_AMT6     38675.979875\n",
      "PAY_AMT1       5623.556292\n",
      "PAY_AMT2       5879.974917\n",
      "PAY_AMT3       5215.777583\n",
      "PAY_AMT4       4790.331833\n",
      "PAY_AMT5       4769.941750\n",
      "PAY_AMT6       5229.905500\n",
      "dtype: float64, std: LIMIT_BAL    129511.313151\n",
      "SEX               0.488915\n",
      "EDUCATION         0.792375\n",
      "MARRIAGE          0.521903\n",
      "AGE               8.856086\n",
      "PAY_0             1.123155\n",
      "PAY_2             1.198818\n",
      "PAY_3             1.194166\n",
      "PAY_4             1.161924\n",
      "PAY_5             1.125192\n",
      "PAY_6             1.145467\n",
      "BILL_AMT1     70883.972231\n",
      "BILL_AMT2     70840.102410\n",
      "BILL_AMT3     68403.933692\n",
      "BILL_AMT4     64046.730878\n",
      "BILL_AMT5     60627.850612\n",
      "BILL_AMT6     59308.737828\n",
      "PAY_AMT1      16148.316646\n",
      "PAY_AMT2      20252.983189\n",
      "PAY_AMT3      17513.554475\n",
      "PAY_AMT4      15060.693585\n",
      "PAY_AMT5      15048.470405\n",
      "PAY_AMT6      17850.346975\n",
      "dtype: float64\n",
      "  Test mean: LIMIT_BAL    167962.946667\n",
      "SEX               1.599667\n",
      "EDUCATION         1.850500\n",
      "MARRIAGE          1.547833\n",
      "AGE              35.592833\n",
      "PAY_0            -0.027000\n",
      "PAY_2            -0.132500\n",
      "PAY_3            -0.163333\n",
      "PAY_4            -0.218000\n",
      "PAY_5            -0.249667\n",
      "PAY_6            -0.282167\n",
      "BILL_AMT1     48990.534667\n",
      "BILL_AMT2     49846.305500\n",
      "BILL_AMT3     47618.253667\n",
      "BILL_AMT4     43688.099000\n",
      "BILL_AMT5     40899.354333\n",
      "BILL_AMT6     39654.882500\n",
      "PAY_AMT1       5823.677333\n",
      "PAY_AMT2       6085.917833\n",
      "PAY_AMT3       5265.297167\n",
      "PAY_AMT4       4969.057000\n",
      "PAY_AMT5       4917.171167\n",
      "PAY_AMT6       5157.890833\n",
      "dtype: float64, std: LIMIT_BAL    130698.538357\n",
      "SEX               0.490007\n",
      "EDUCATION         0.782252\n",
      "MARRIAGE          0.522262\n",
      "AGE               9.005881\n",
      "PAY_0             1.126417\n",
      "PAY_2             1.190734\n",
      "PAY_3             1.207711\n",
      "PAY_4             1.197657\n",
      "PAY_5             1.164571\n",
      "PAY_6             1.167951\n",
      "BILL_AMT1     71383.343893\n",
      "BILL_AMT2     72495.226802\n",
      "BILL_AMT3     73011.671450\n",
      "BILL_AMT4     65468.536253\n",
      "BILL_AMT5     61471.293451\n",
      "BILL_AMT6     60524.310508\n",
      "PAY_AMT1      18128.961193\n",
      "PAY_AMT2      31840.071465\n",
      "PAY_AMT3      17977.164797\n",
      "PAY_AMT4      17884.895787\n",
      "PAY_AMT5      16165.776457\n",
      "PAY_AMT6      17484.253835\n",
      "dtype: float64\n",
      "  Target distribution in train: {0: 18691, 1: 5309}\n",
      "\n",
      "Dataset B (Linear Regression Imputation):\n",
      "  Training set: 24000 samples\n",
      "  Test set: 6000 samples\n",
      "  Features: 23 columns\n",
      "  Training mean: LIMIT_BAL    167364.666667\n",
      "SEX               1.604750\n",
      "EDUCATION         1.853792\n",
      "MARRIAGE          1.552875\n",
      "AGE              35.319917\n",
      "PAY_0            -0.014125\n",
      "PAY_2            -0.134083\n",
      "PAY_3            -0.166917\n",
      "PAY_4            -0.221333\n",
      "PAY_5            -0.270333\n",
      "PAY_6            -0.293333\n",
      "BILL_AMT1     51107.991446\n",
      "BILL_AMT2     49012.267583\n",
      "BILL_AMT3     46861.880083\n",
      "BILL_AMT4     43156.661458\n",
      "BILL_AMT5     40164.412625\n",
      "BILL_AMT6     38675.979875\n",
      "PAY_AMT1       5623.556292\n",
      "PAY_AMT2       5879.974917\n",
      "PAY_AMT3       5215.777583\n",
      "PAY_AMT4       4790.331833\n",
      "PAY_AMT5       4769.941750\n",
      "PAY_AMT6       5229.905500\n",
      "dtype: float64, std: LIMIT_BAL    129511.313151\n",
      "SEX               0.488915\n",
      "EDUCATION         0.792375\n",
      "MARRIAGE          0.521903\n",
      "AGE               8.856086\n",
      "PAY_0             1.123155\n",
      "PAY_2             1.198818\n",
      "PAY_3             1.194166\n",
      "PAY_4             1.161924\n",
      "PAY_5             1.125192\n",
      "PAY_6             1.145467\n",
      "BILL_AMT1     73320.752881\n",
      "BILL_AMT2     70840.102410\n",
      "BILL_AMT3     68403.933692\n",
      "BILL_AMT4     64046.730878\n",
      "BILL_AMT5     60627.850612\n",
      "BILL_AMT6     59308.737828\n",
      "PAY_AMT1      16148.316646\n",
      "PAY_AMT2      20252.983189\n",
      "PAY_AMT3      17513.554475\n",
      "PAY_AMT4      15060.693585\n",
      "PAY_AMT5      15048.470405\n",
      "PAY_AMT6      17850.346975\n",
      "dtype: float64\n",
      "  Test mean: LIMIT_BAL    167962.946667\n",
      "SEX               1.599667\n",
      "EDUCATION         1.850500\n",
      "MARRIAGE          1.547833\n",
      "AGE              35.592833\n",
      "PAY_0            -0.027000\n",
      "PAY_2            -0.132500\n",
      "PAY_3            -0.163333\n",
      "PAY_4            -0.218000\n",
      "PAY_5            -0.249667\n",
      "PAY_6            -0.282167\n",
      "BILL_AMT1     51658.576421\n",
      "BILL_AMT2     49846.305500\n",
      "BILL_AMT3     47618.253667\n",
      "BILL_AMT4     43688.099000\n",
      "BILL_AMT5     40899.354333\n",
      "BILL_AMT6     39654.882500\n",
      "PAY_AMT1       5823.677333\n",
      "PAY_AMT2       6085.917833\n",
      "PAY_AMT3       5265.297167\n",
      "PAY_AMT4       4969.057000\n",
      "PAY_AMT5       4917.171167\n",
      "PAY_AMT6       5157.890833\n",
      "dtype: float64, std: LIMIT_BAL    130698.538357\n",
      "SEX               0.490007\n",
      "EDUCATION         0.782252\n",
      "MARRIAGE          0.522262\n",
      "AGE               9.005881\n",
      "PAY_0             1.126417\n",
      "PAY_2             1.190734\n",
      "PAY_3             1.207711\n",
      "PAY_4             1.197657\n",
      "PAY_5             1.164571\n",
      "PAY_6             1.167951\n",
      "BILL_AMT1     73834.356787\n",
      "BILL_AMT2     72495.226802\n",
      "BILL_AMT3     73011.671450\n",
      "BILL_AMT4     65468.536253\n",
      "BILL_AMT5     61471.293451\n",
      "BILL_AMT6     60524.310508\n",
      "PAY_AMT1      18128.961193\n",
      "PAY_AMT2      31840.071465\n",
      "PAY_AMT3      17977.164797\n",
      "PAY_AMT4      17884.895787\n",
      "PAY_AMT5      16165.776457\n",
      "PAY_AMT6      17484.253835\n",
      "dtype: float64\n",
      "  Target distribution in train: {0: 18691, 1: 5309}\n",
      "\n",
      "Dataset C (KNN Regression Imputation):\n",
      "  Training set: 24000 samples\n",
      "  Test set: 6000 samples\n",
      "  Features: 23 columns\n",
      "  Training mean: LIMIT_BAL    167364.666667\n",
      "SEX               1.604750\n",
      "EDUCATION         1.853792\n",
      "MARRIAGE          1.552875\n",
      "AGE              35.319917\n",
      "PAY_0            -0.014125\n",
      "PAY_2            -0.134083\n",
      "PAY_3            -0.166917\n",
      "PAY_4            -0.221333\n",
      "PAY_5            -0.270333\n",
      "PAY_6            -0.293333\n",
      "BILL_AMT1     51059.945360\n",
      "BILL_AMT2     49012.267583\n",
      "BILL_AMT3     46861.880083\n",
      "BILL_AMT4     43156.661458\n",
      "BILL_AMT5     40164.412625\n",
      "BILL_AMT6     38675.979875\n",
      "PAY_AMT1       5623.556292\n",
      "PAY_AMT2       5879.974917\n",
      "PAY_AMT3       5215.777583\n",
      "PAY_AMT4       4790.331833\n",
      "PAY_AMT5       4769.941750\n",
      "PAY_AMT6       5229.905500\n",
      "dtype: float64, std: LIMIT_BAL    129511.313151\n",
      "SEX               0.488915\n",
      "EDUCATION         0.792375\n",
      "MARRIAGE          0.521903\n",
      "AGE               8.856086\n",
      "PAY_0             1.123155\n",
      "PAY_2             1.198818\n",
      "PAY_3             1.194166\n",
      "PAY_4             1.161924\n",
      "PAY_5             1.125192\n",
      "PAY_6             1.145467\n",
      "BILL_AMT1     73084.125515\n",
      "BILL_AMT2     70840.102410\n",
      "BILL_AMT3     68403.933692\n",
      "BILL_AMT4     64046.730878\n",
      "BILL_AMT5     60627.850612\n",
      "BILL_AMT6     59308.737828\n",
      "PAY_AMT1      16148.316646\n",
      "PAY_AMT2      20252.983189\n",
      "PAY_AMT3      17513.554475\n",
      "PAY_AMT4      15060.693585\n",
      "PAY_AMT5      15048.470405\n",
      "PAY_AMT6      17850.346975\n",
      "dtype: float64\n",
      "  Test mean: LIMIT_BAL    167962.946667\n",
      "SEX               1.599667\n",
      "EDUCATION         1.850500\n",
      "MARRIAGE          1.547833\n",
      "AGE              35.592833\n",
      "PAY_0            -0.027000\n",
      "PAY_2            -0.132500\n",
      "PAY_3            -0.163333\n",
      "PAY_4            -0.218000\n",
      "PAY_5            -0.249667\n",
      "PAY_6            -0.282167\n",
      "BILL_AMT1     51583.037219\n",
      "BILL_AMT2     49846.305500\n",
      "BILL_AMT3     47618.253667\n",
      "BILL_AMT4     43688.099000\n",
      "BILL_AMT5     40899.354333\n",
      "BILL_AMT6     39654.882500\n",
      "PAY_AMT1       5823.677333\n",
      "PAY_AMT2       6085.917833\n",
      "PAY_AMT3       5265.297167\n",
      "PAY_AMT4       4969.057000\n",
      "PAY_AMT5       4917.171167\n",
      "PAY_AMT6       5157.890833\n",
      "dtype: float64, std: LIMIT_BAL    130698.538357\n",
      "SEX               0.490007\n",
      "EDUCATION         0.782252\n",
      "MARRIAGE          0.522262\n",
      "AGE               9.005881\n",
      "PAY_0             1.126417\n",
      "PAY_2             1.190734\n",
      "PAY_3             1.207711\n",
      "PAY_4             1.197657\n",
      "PAY_5             1.164571\n",
      "PAY_6             1.167951\n",
      "BILL_AMT1     73749.573780\n",
      "BILL_AMT2     72495.226802\n",
      "BILL_AMT3     73011.671450\n",
      "BILL_AMT4     65468.536253\n",
      "BILL_AMT5     61471.293451\n",
      "BILL_AMT6     60524.310508\n",
      "PAY_AMT1      18128.961193\n",
      "PAY_AMT2      31840.071465\n",
      "PAY_AMT3      17977.164797\n",
      "PAY_AMT4      17884.895787\n",
      "PAY_AMT5      16165.776457\n",
      "PAY_AMT6      17484.253835\n",
      "dtype: float64\n",
      "  Target distribution in train: {0: 18691, 1: 5309}\n",
      "\n",
      "Dataset D (Listwise Deletion):\n",
      "  Training set: 20540 samples\n",
      "  Test set: 5136 samples\n",
      "  Features: 23 columns\n",
      "  Training mean: LIMIT_BAL    167929.016553\n",
      "SEX               1.602678\n",
      "EDUCATION         1.846397\n",
      "MARRIAGE          1.556037\n",
      "AGE              35.442356\n",
      "PAY_0            -0.017137\n",
      "PAY_2            -0.127751\n",
      "PAY_3            -0.166066\n",
      "PAY_4            -0.219085\n",
      "PAY_5            -0.269133\n",
      "PAY_6            -0.290117\n",
      "BILL_AMT1     51480.124343\n",
      "BILL_AMT2     49449.311149\n",
      "BILL_AMT3     47183.968647\n",
      "BILL_AMT4     43236.630867\n",
      "BILL_AMT5     40332.839094\n",
      "BILL_AMT6     38913.845570\n",
      "PAY_AMT1       5610.222687\n",
      "PAY_AMT2       5983.811636\n",
      "PAY_AMT3       5173.452580\n",
      "PAY_AMT4       4859.040701\n",
      "PAY_AMT5       4849.720691\n",
      "PAY_AMT6       5368.926874\n",
      "dtype: float64, std: LIMIT_BAL    130171.256582\n",
      "SEX               0.489356\n",
      "EDUCATION         0.792338\n",
      "MARRIAGE          0.521905\n",
      "AGE               9.194499\n",
      "PAY_0             1.123209\n",
      "PAY_2             1.200662\n",
      "PAY_3             1.189453\n",
      "PAY_4             1.161989\n",
      "PAY_5             1.125769\n",
      "PAY_6             1.145405\n",
      "BILL_AMT1     73852.444322\n",
      "BILL_AMT2     71744.185795\n",
      "BILL_AMT3     70073.247846\n",
      "BILL_AMT4     64231.339345\n",
      "BILL_AMT5     60680.893092\n",
      "BILL_AMT6     59407.996126\n",
      "PAY_AMT1      16594.787095\n",
      "PAY_AMT2      25215.668949\n",
      "PAY_AMT3      17154.229099\n",
      "PAY_AMT4      15673.007414\n",
      "PAY_AMT5      15497.358042\n",
      "PAY_AMT6      18538.603440\n",
      "dtype: float64\n",
      "  Test mean: LIMIT_BAL    168130.389408\n",
      "SEX               1.613902\n",
      "EDUCATION         1.874221\n",
      "MARRIAGE          1.546729\n",
      "AGE              35.659657\n",
      "PAY_0            -0.004868\n",
      "PAY_2            -0.150701\n",
      "PAY_3            -0.160241\n",
      "PAY_4            -0.213201\n",
      "PAY_5            -0.247664\n",
      "PAY_6            -0.276869\n",
      "BILL_AMT1     50830.092679\n",
      "BILL_AMT2     48837.735787\n",
      "BILL_AMT3     46995.476830\n",
      "BILL_AMT4     43765.183606\n",
      "BILL_AMT5     40731.162967\n",
      "BILL_AMT6     38927.481698\n",
      "PAY_AMT1       6042.146223\n",
      "PAY_AMT2       6018.882009\n",
      "PAY_AMT3       5419.220210\n",
      "PAY_AMT4       4810.224104\n",
      "PAY_AMT5       4782.221573\n",
      "PAY_AMT6       4801.202103\n",
      "dtype: float64, std: LIMIT_BAL    129609.037142\n",
      "SEX               0.486901\n",
      "EDUCATION         0.802230\n",
      "MARRIAGE          0.525640\n",
      "AGE               9.262956\n",
      "PAY_0             1.131205\n",
      "PAY_2             1.178463\n",
      "PAY_3             1.211525\n",
      "PAY_4             1.173676\n",
      "PAY_5             1.142008\n",
      "PAY_6             1.162736\n",
      "BILL_AMT1     73764.829829\n",
      "BILL_AMT2     70172.669683\n",
      "BILL_AMT3     69008.232640\n",
      "BILL_AMT4     65145.962708\n",
      "BILL_AMT5     61429.819807\n",
      "BILL_AMT6     59640.816107\n",
      "PAY_AMT1      17751.047786\n",
      "PAY_AMT2      18210.907023\n",
      "PAY_AMT3      17427.035827\n",
      "PAY_AMT4      15215.495142\n",
      "PAY_AMT5      15558.946217\n",
      "PAY_AMT6      14538.864604\n",
      "dtype: float64\n",
      "  Target distribution in train: {0: 15994, 1: 4546}\n"
     ]
    }
   ],
   "source": [
    "# Part B.1: Data Split - Create Dataset D (Listwise Deletion) and split all datasets\n",
    "# Create Dataset D by removing all rows with any missing values (Listwise Deletion)\n",
    "dataset_D = df_work.dropna()\n",
    "print(f\"Dataset D (Listwise Deletion) shape: {dataset_D.shape}\")\n",
    "print(f\"Original dataset shape: {df_work.shape}\")\n",
    "print(f\"Rows removed: {df_work.shape[0] - dataset_D.shape[0]} ({((df_work.shape[0] - dataset_D.shape[0])/df_work.shape[0]*100):.1f}%)\")\n",
    "\n",
    "# Prepare datasets for modeling\n",
    "datasets = {\n",
    "    'A (Median Imputation)': dataset_A,\n",
    "    'B (Linear Regression Imputation)': dataset_B,\n",
    "    'C (KNN Regression Imputation)': dataset_C,\n",
    "    'D (Listwise Deletion)': dataset_D\n",
    "}\n",
    "\n",
    "# Split each dataset into features and target\n",
    "splits = {}\n",
    "for name, data in datasets.items():\n",
    "    X = data.drop('default.payment.next.month', axis=1)\n",
    "    y = data['default.payment.next.month']\n",
    "    \n",
    "    # Split into train and test sets (80-20 split)\n",
    "    X_train, X_test, y_train, y_test = train_test_split(\n",
    "        X, y, test_size=0.2, random_state=42, stratify=y\n",
    "    )\n",
    "    \n",
    "    splits[name] = {\n",
    "        'X_train': X_train,\n",
    "        'X_test': X_test,\n",
    "        'y_train': y_train,\n",
    "        'y_test': y_test\n",
    "    }\n",
    "    \n",
    "    print(f\"\\nDataset {name}:\")\n",
    "    print(f\"  Training set: {X_train.shape[0]} samples\")\n",
    "    print(f\"  Test set: {X_test.shape[0]} samples\")\n",
    "    print(f\"  Features: {X_train.shape[1]} columns\")\n",
    "    print(f\"  Training mean: {X_train.mean():}, std: {X_train.std():}\")\n",
    "    print(f\"  Test mean: {X_test.mean():}, std: {X_test.std():}\")\n",
    "    print(f\"  Target distribution in train: {y_train.value_counts().to_dict()}\")\n"
   ]
  },
  {
   "cell_type": "markdown",
   "id": "566f8b26",
   "metadata": {},
   "source": [
    "#### There's obvious imbalance in features, hence standardization is necessary"
   ]
  },
  {
   "cell_type": "code",
   "execution_count": 11,
   "id": "0b6125ea",
   "metadata": {},
   "outputs": [
    {
     "name": "stdout",
     "output_type": "stream",
     "text": [
      "Dataset A (Median Imputation): Features standardized\n",
      "  Training mean: 0.000000, std: 1.000000\n",
      "  Test mean: 0.006028, std: 1.060038\n",
      "Dataset B (Linear Regression Imputation): Features standardized\n",
      "  Training mean: 0.000000, std: 1.000000\n",
      "  Test mean: 0.006319, std: 1.060035\n",
      "Dataset C (KNN Regression Imputation): Features standardized\n",
      "  Training mean: 0.000000, std: 1.000000\n",
      "  Test mean: 0.006304, std: 1.060122\n",
      "Dataset D (Listwise Deletion): Features standardized\n",
      "  Training mean: 0.000000, std: 1.000000\n",
      "  Test mean: 0.004194, std: 0.986466\n"
     ]
    }
   ],
   "source": [
    "# Part B.2: Classifier Setup - Standardize features\n",
    "# Standardize features for all datasets\n",
    "scalers = {}\n",
    "scaled_splits = {}\n",
    "\n",
    "for name in splits.keys():\n",
    "    # Create and fit scaler on training data\n",
    "    scaler = StandardScaler()\n",
    "    scaler.fit(splits[name]['X_train'])\n",
    "    scalers[name] = scaler\n",
    "    \n",
    "    # Transform both training and test data\n",
    "    X_train_scaled = scaler.transform(splits[name]['X_train'])\n",
    "    X_test_scaled = scaler.transform(splits[name]['X_test'])\n",
    "    \n",
    "    scaled_splits[name] = {\n",
    "        'X_train': X_train_scaled,\n",
    "        'X_test': X_test_scaled,\n",
    "        'y_train': splits[name]['y_train'],\n",
    "        'y_test': splits[name]['y_test']\n",
    "    }\n",
    "    \n",
    "    print(f\"Dataset {name}: Features standardized\")\n",
    "    print(f\"  Training mean: {X_train_scaled.mean():.6f}, std: {X_train_scaled.std():.6f}\")\n",
    "    print(f\"  Test mean: {X_test_scaled.mean():.6f}, std: {X_test_scaled.std():.6f}\")"
   ]
  },
  {
   "cell_type": "markdown",
   "id": "5f264aef",
   "metadata": {},
   "source": [
    "#### Let's train a logistic regression on all 4 datasets and compare their performance"
   ]
  },
  {
   "cell_type": "code",
   "execution_count": 14,
   "id": "25e68c6b",
   "metadata": {},
   "outputs": [
    {
     "name": "stdout",
     "output_type": "stream",
     "text": [
      "\n",
      "--- Training Model A (Median Imputation) ---\n",
      "Accuracy: 0.8080\n",
      "Classification Report:\n",
      "              precision    recall  f1-score   support\n",
      "\n",
      "           0       0.82      0.97      0.89      4673\n",
      "           1       0.69      0.24      0.36      1327\n",
      "\n",
      "    accuracy                           0.81      6000\n",
      "   macro avg       0.75      0.60      0.62      6000\n",
      "weighted avg       0.79      0.81      0.77      6000\n",
      "\n",
      "\n",
      "--- Training Model B (Linear Regression Imputation) ---\n",
      "Accuracy: 0.8085\n",
      "Classification Report:\n",
      "              precision    recall  f1-score   support\n",
      "\n",
      "           0       0.82      0.97      0.89      4673\n",
      "           1       0.69      0.24      0.36      1327\n",
      "\n",
      "    accuracy                           0.81      6000\n",
      "   macro avg       0.75      0.61      0.62      6000\n",
      "weighted avg       0.79      0.81      0.77      6000\n",
      "\n",
      "\n",
      "--- Training Model C (KNN Regression Imputation) ---\n",
      "Accuracy: 0.8087\n",
      "Classification Report:\n",
      "              precision    recall  f1-score   support\n",
      "\n",
      "           0       0.82      0.97      0.89      4673\n",
      "           1       0.69      0.24      0.36      1327\n",
      "\n",
      "    accuracy                           0.81      6000\n",
      "   macro avg       0.76      0.61      0.62      6000\n",
      "weighted avg       0.79      0.81      0.77      6000\n",
      "\n",
      "\n",
      "--- Training Model D (Listwise Deletion) ---\n",
      "Accuracy: 0.8115\n",
      "Classification Report:\n",
      "              precision    recall  f1-score   support\n",
      "\n",
      "           0       0.82      0.97      0.89      3999\n",
      "           1       0.71      0.25      0.37      1137\n",
      "\n",
      "    accuracy                           0.81      5136\n",
      "   macro avg       0.77      0.61      0.63      5136\n",
      "weighted avg       0.80      0.81      0.77      5136\n",
      "\n"
     ]
    }
   ],
   "source": [
    "# Part B.3: Model Evaluation - Train and evaluate Logistic Regression models\n",
    "# Train Logistic Regression models and evaluate\n",
    "results = {}\n",
    "models = {}\n",
    "\n",
    "for name in scaled_splits.keys():\n",
    "    print(f\"\\n--- Training Model {name} ---\")\n",
    "    \n",
    "    # Train Logistic Regression\n",
    "    lr_classifier = LogisticRegression(random_state=42, max_iter=1000)\n",
    "    lr_classifier.fit(scaled_splits[name]['X_train'], scaled_splits[name]['y_train'])\n",
    "    \n",
    "    # Make predictions\n",
    "    y_pred = lr_classifier.predict(scaled_splits[name]['X_test'])\n",
    "    y_pred_proba = lr_classifier.predict_proba(scaled_splits[name]['X_test'])\n",
    "    \n",
    "    # Calculate metrics\n",
    "    accuracy = accuracy_score(scaled_splits[name]['y_test'], y_pred)\n",
    "    report = classification_report(scaled_splits[name]['y_test'], y_pred, output_dict=True)\n",
    "    \n",
    "    # Store results\n",
    "    models[name] = lr_classifier\n",
    "    results[name] = {\n",
    "        'accuracy': accuracy,\n",
    "        'precision_0': report['0']['precision'],\n",
    "        'recall_0': report['0']['recall'],\n",
    "        'f1_0': report['0']['f1-score'],\n",
    "        'precision_1': report['1']['precision'],\n",
    "        'recall_1': report['1']['recall'],\n",
    "        'f1_1': report['1']['f1-score'],\n",
    "        'macro_precision': report['macro avg']['precision'],\n",
    "        'macro_recall': report['macro avg']['recall'],\n",
    "        'macro_f1': report['macro avg']['f1-score'],\n",
    "        'weighted_f1': report['weighted avg']['f1-score']\n",
    "    }\n",
    "    \n",
    "    print(f\"Accuracy: {accuracy:.4f}\")\n",
    "    print(\"Classification Report:\")\n",
    "    print(classification_report(scaled_splits[name]['y_test'], y_pred))\n"
   ]
  },
  {
   "cell_type": "markdown",
   "id": "cef5daff",
   "metadata": {},
   "source": [
    "#### Let's compare the results "
   ]
  },
  {
   "cell_type": "code",
   "execution_count": 16,
   "id": "05ace079",
   "metadata": {},
   "outputs": [
    {
     "name": "stdout",
     "output_type": "stream",
     "text": [
      "                           Model  Accuracy  Precision_Class_0  Recall_Class_0  F1_Class_0  Precision_Class_1  Recall_Class_1  F1_Class_1  Macro_F1  Weighted_F1\n",
      "           A (Median Imputation)    0.8080             0.8178          0.9694      0.8872             0.6898          0.2396      0.3557    0.6214       0.7696\n",
      "B (Linear Regression Imputation)    0.8085             0.8184          0.9692      0.8874             0.6910          0.2427      0.3592    0.6233       0.7706\n",
      "   C (KNN Regression Imputation)    0.8087             0.8185          0.9692      0.8875             0.6916          0.2434      0.3601    0.6238       0.7709\n",
      "           D (Listwise Deletion)    0.8115             0.8201          0.9710      0.8892             0.7107          0.2507      0.3706    0.6299       0.7744\n",
      "\n",
      "Results saved to 'model_comparison_results.csv'\n",
      "\n",
      "--- KEY INSIGHTS ---\n",
      "Ranking by F1-score for Class 1 (Default Detection):\n",
      "1. D (Listwise Deletion): F1 = 0.3706\n",
      "2. C (KNN Regression Imputation): F1 = 0.3601\n",
      "3. B (Linear Regression Imputation): F1 = 0.3592\n",
      "4. A (Median Imputation): F1 = 0.3557\n",
      "\n",
      "Ranking by Weighted F1-score (Overall Performance):\n",
      "1. D (Listwise Deletion): Weighted F1 = 0.7744\n",
      "2. C (KNN Regression Imputation): Weighted F1 = 0.7709\n",
      "3. B (Linear Regression Imputation): Weighted F1 = 0.7706\n",
      "4. A (Median Imputation): Weighted F1 = 0.7696\n",
      "\n",
      "--- DATASET SIZE IMPACT ---\n",
      "Training Set Sizes:\n",
      "A (Median Imputation): 24,000 samples\n",
      "B (Linear Regression Imputation): 24,000 samples\n",
      "C (KNN Regression Imputation): 24,000 samples\n",
      "D (Listwise Deletion): 20,540 samples\n"
     ]
    }
   ],
   "source": [
    "# Part C.1: Results Comparison - Create summary table\n",
    "# Create comprehensive results comparison table\n",
    "comparison_df = pd.DataFrame({\n",
    "    'Model': list(results.keys()),\n",
    "    'Accuracy': [results[name]['accuracy'] for name in results.keys()],\n",
    "    'Precision_Class_0': [results[name]['precision_0'] for name in results.keys()],\n",
    "    'Recall_Class_0': [results[name]['recall_0'] for name in results.keys()],\n",
    "    'F1_Class_0': [results[name]['f1_0'] for name in results.keys()],\n",
    "    'Precision_Class_1': [results[name]['precision_1'] for name in results.keys()],\n",
    "    'Recall_Class_1': [results[name]['recall_1'] for name in results.keys()],\n",
    "    'F1_Class_1': [results[name]['f1_1'] for name in results.keys()],\n",
    "    'Macro_F1': [results[name]['macro_f1'] for name in results.keys()],\n",
    "    'Weighted_F1': [results[name]['weighted_f1'] for name in results.keys()]\n",
    "})\n",
    "\n",
    "# Round values for better presentation\n",
    "comparison_df = comparison_df.round(4)\n",
    "\n",
    "print(comparison_df.to_string(index=False))\n",
    "\n",
    "# Save results to CSV for further analysis\n",
    "comparison_df.to_csv('model_comparison_results.csv', index=False)\n",
    "print(f\"\\nResults saved to 'model_comparison_results.csv'\")\n",
    "\n",
    "# Focus on F1-scores for class 1 (default cases) as this is typically more important\n",
    "print(f\"\\n--- KEY INSIGHTS ---\")\n",
    "print(f\"Ranking by F1-score for Class 1 (Default Detection):\")\n",
    "f1_class1_ranking = comparison_df.sort_values('F1_Class_1', ascending=False)\n",
    "for i, (idx, row) in enumerate(f1_class1_ranking.iterrows(), 1):\n",
    "    print(f\"{i}. {row['Model']}: F1 = {row['F1_Class_1']:.4f}\")\n",
    "\n",
    "print(f\"\\nRanking by Weighted F1-score (Overall Performance):\")\n",
    "weighted_f1_ranking = comparison_df.sort_values('Weighted_F1', ascending=False)\n",
    "for i, (idx, row) in enumerate(weighted_f1_ranking.iterrows(), 1):\n",
    "    print(f\"{i}. {row['Model']}: Weighted F1 = {row['Weighted_F1']:.4f}\")\n",
    "\n",
    "print(f\"\\n--- DATASET SIZE IMPACT ---\")\n",
    "print(\"Training Set Sizes:\")\n",
    "for name in splits.keys():\n",
    "    train_size = splits[name]['X_train'].shape[0]\n",
    "    print(f\"{name}: {train_size:,} samples\")"
   ]
  },
  {
   "cell_type": "code",
   "execution_count": 19,
   "id": "2473b247",
   "metadata": {},
   "outputs": [
    {
     "data": {
      "application/vnd.plotly.v1+json": {
       "config": {
        "plotlyServerURL": "https://plot.ly"
       },
       "data": [
        {
         "cliponaxis": false,
         "marker": {
          "color": [
           "#1FB8CD",
           "#DB4545",
           "#2E8B57",
           "#5D878F"
          ]
         },
         "showlegend": false,
         "text": [
          "0.36",
          "0.36",
          "0.36",
          "0.37"
         ],
         "textposition": "outside",
         "type": "bar",
         "x": [
          "A: Median",
          "B: Lin Regress",
          "C: KNN",
          "D: Listwise"
         ],
         "y": [
          0.3557,
          0.3592,
          0.3601,
          0.3706
         ]
        }
       ],
       "layout": {
        "template": {
         "data": {
          "bar": [
           {
            "error_x": {
             "color": "#2a3f5f"
            },
            "error_y": {
             "color": "#2a3f5f"
            },
            "marker": {
             "line": {
              "color": "#E5ECF6",
              "width": 0.5
             },
             "pattern": {
              "fillmode": "overlay",
              "size": 10,
              "solidity": 0.2
             }
            },
            "type": "bar"
           }
          ],
          "barpolar": [
           {
            "marker": {
             "line": {
              "color": "#E5ECF6",
              "width": 0.5
             },
             "pattern": {
              "fillmode": "overlay",
              "size": 10,
              "solidity": 0.2
             }
            },
            "type": "barpolar"
           }
          ],
          "carpet": [
           {
            "aaxis": {
             "endlinecolor": "#2a3f5f",
             "gridcolor": "white",
             "linecolor": "white",
             "minorgridcolor": "white",
             "startlinecolor": "#2a3f5f"
            },
            "baxis": {
             "endlinecolor": "#2a3f5f",
             "gridcolor": "white",
             "linecolor": "white",
             "minorgridcolor": "white",
             "startlinecolor": "#2a3f5f"
            },
            "type": "carpet"
           }
          ],
          "choropleth": [
           {
            "colorbar": {
             "outlinewidth": 0,
             "ticks": ""
            },
            "type": "choropleth"
           }
          ],
          "contour": [
           {
            "colorbar": {
             "outlinewidth": 0,
             "ticks": ""
            },
            "colorscale": [
             [
              0,
              "#0d0887"
             ],
             [
              0.1111111111111111,
              "#46039f"
             ],
             [
              0.2222222222222222,
              "#7201a8"
             ],
             [
              0.3333333333333333,
              "#9c179e"
             ],
             [
              0.4444444444444444,
              "#bd3786"
             ],
             [
              0.5555555555555556,
              "#d8576b"
             ],
             [
              0.6666666666666666,
              "#ed7953"
             ],
             [
              0.7777777777777778,
              "#fb9f3a"
             ],
             [
              0.8888888888888888,
              "#fdca26"
             ],
             [
              1,
              "#f0f921"
             ]
            ],
            "type": "contour"
           }
          ],
          "contourcarpet": [
           {
            "colorbar": {
             "outlinewidth": 0,
             "ticks": ""
            },
            "type": "contourcarpet"
           }
          ],
          "heatmap": [
           {
            "colorbar": {
             "outlinewidth": 0,
             "ticks": ""
            },
            "colorscale": [
             [
              0,
              "#0d0887"
             ],
             [
              0.1111111111111111,
              "#46039f"
             ],
             [
              0.2222222222222222,
              "#7201a8"
             ],
             [
              0.3333333333333333,
              "#9c179e"
             ],
             [
              0.4444444444444444,
              "#bd3786"
             ],
             [
              0.5555555555555556,
              "#d8576b"
             ],
             [
              0.6666666666666666,
              "#ed7953"
             ],
             [
              0.7777777777777778,
              "#fb9f3a"
             ],
             [
              0.8888888888888888,
              "#fdca26"
             ],
             [
              1,
              "#f0f921"
             ]
            ],
            "type": "heatmap"
           }
          ],
          "histogram": [
           {
            "marker": {
             "pattern": {
              "fillmode": "overlay",
              "size": 10,
              "solidity": 0.2
             }
            },
            "type": "histogram"
           }
          ],
          "histogram2d": [
           {
            "colorbar": {
             "outlinewidth": 0,
             "ticks": ""
            },
            "colorscale": [
             [
              0,
              "#0d0887"
             ],
             [
              0.1111111111111111,
              "#46039f"
             ],
             [
              0.2222222222222222,
              "#7201a8"
             ],
             [
              0.3333333333333333,
              "#9c179e"
             ],
             [
              0.4444444444444444,
              "#bd3786"
             ],
             [
              0.5555555555555556,
              "#d8576b"
             ],
             [
              0.6666666666666666,
              "#ed7953"
             ],
             [
              0.7777777777777778,
              "#fb9f3a"
             ],
             [
              0.8888888888888888,
              "#fdca26"
             ],
             [
              1,
              "#f0f921"
             ]
            ],
            "type": "histogram2d"
           }
          ],
          "histogram2dcontour": [
           {
            "colorbar": {
             "outlinewidth": 0,
             "ticks": ""
            },
            "colorscale": [
             [
              0,
              "#0d0887"
             ],
             [
              0.1111111111111111,
              "#46039f"
             ],
             [
              0.2222222222222222,
              "#7201a8"
             ],
             [
              0.3333333333333333,
              "#9c179e"
             ],
             [
              0.4444444444444444,
              "#bd3786"
             ],
             [
              0.5555555555555556,
              "#d8576b"
             ],
             [
              0.6666666666666666,
              "#ed7953"
             ],
             [
              0.7777777777777778,
              "#fb9f3a"
             ],
             [
              0.8888888888888888,
              "#fdca26"
             ],
             [
              1,
              "#f0f921"
             ]
            ],
            "type": "histogram2dcontour"
           }
          ],
          "mesh3d": [
           {
            "colorbar": {
             "outlinewidth": 0,
             "ticks": ""
            },
            "type": "mesh3d"
           }
          ],
          "parcoords": [
           {
            "line": {
             "colorbar": {
              "outlinewidth": 0,
              "ticks": ""
             }
            },
            "type": "parcoords"
           }
          ],
          "pie": [
           {
            "automargin": true,
            "type": "pie"
           }
          ],
          "scatter": [
           {
            "fillpattern": {
             "fillmode": "overlay",
             "size": 10,
             "solidity": 0.2
            },
            "type": "scatter"
           }
          ],
          "scatter3d": [
           {
            "line": {
             "colorbar": {
              "outlinewidth": 0,
              "ticks": ""
             }
            },
            "marker": {
             "colorbar": {
              "outlinewidth": 0,
              "ticks": ""
             }
            },
            "type": "scatter3d"
           }
          ],
          "scattercarpet": [
           {
            "marker": {
             "colorbar": {
              "outlinewidth": 0,
              "ticks": ""
             }
            },
            "type": "scattercarpet"
           }
          ],
          "scattergeo": [
           {
            "marker": {
             "colorbar": {
              "outlinewidth": 0,
              "ticks": ""
             }
            },
            "type": "scattergeo"
           }
          ],
          "scattergl": [
           {
            "marker": {
             "colorbar": {
              "outlinewidth": 0,
              "ticks": ""
             }
            },
            "type": "scattergl"
           }
          ],
          "scattermap": [
           {
            "marker": {
             "colorbar": {
              "outlinewidth": 0,
              "ticks": ""
             }
            },
            "type": "scattermap"
           }
          ],
          "scattermapbox": [
           {
            "marker": {
             "colorbar": {
              "outlinewidth": 0,
              "ticks": ""
             }
            },
            "type": "scattermapbox"
           }
          ],
          "scatterpolar": [
           {
            "marker": {
             "colorbar": {
              "outlinewidth": 0,
              "ticks": ""
             }
            },
            "type": "scatterpolar"
           }
          ],
          "scatterpolargl": [
           {
            "marker": {
             "colorbar": {
              "outlinewidth": 0,
              "ticks": ""
             }
            },
            "type": "scatterpolargl"
           }
          ],
          "scatterternary": [
           {
            "marker": {
             "colorbar": {
              "outlinewidth": 0,
              "ticks": ""
             }
            },
            "type": "scatterternary"
           }
          ],
          "surface": [
           {
            "colorbar": {
             "outlinewidth": 0,
             "ticks": ""
            },
            "colorscale": [
             [
              0,
              "#0d0887"
             ],
             [
              0.1111111111111111,
              "#46039f"
             ],
             [
              0.2222222222222222,
              "#7201a8"
             ],
             [
              0.3333333333333333,
              "#9c179e"
             ],
             [
              0.4444444444444444,
              "#bd3786"
             ],
             [
              0.5555555555555556,
              "#d8576b"
             ],
             [
              0.6666666666666666,
              "#ed7953"
             ],
             [
              0.7777777777777778,
              "#fb9f3a"
             ],
             [
              0.8888888888888888,
              "#fdca26"
             ],
             [
              1,
              "#f0f921"
             ]
            ],
            "type": "surface"
           }
          ],
          "table": [
           {
            "cells": {
             "fill": {
              "color": "#EBF0F8"
             },
             "line": {
              "color": "white"
             }
            },
            "header": {
             "fill": {
              "color": "#C8D4E3"
             },
             "line": {
              "color": "white"
             }
            },
            "type": "table"
           }
          ]
         },
         "layout": {
          "annotationdefaults": {
           "arrowcolor": "#2a3f5f",
           "arrowhead": 0,
           "arrowwidth": 1
          },
          "autotypenumbers": "strict",
          "coloraxis": {
           "colorbar": {
            "outlinewidth": 0,
            "ticks": ""
           }
          },
          "colorscale": {
           "diverging": [
            [
             0,
             "#8e0152"
            ],
            [
             0.1,
             "#c51b7d"
            ],
            [
             0.2,
             "#de77ae"
            ],
            [
             0.3,
             "#f1b6da"
            ],
            [
             0.4,
             "#fde0ef"
            ],
            [
             0.5,
             "#f7f7f7"
            ],
            [
             0.6,
             "#e6f5d0"
            ],
            [
             0.7,
             "#b8e186"
            ],
            [
             0.8,
             "#7fbc41"
            ],
            [
             0.9,
             "#4d9221"
            ],
            [
             1,
             "#276419"
            ]
           ],
           "sequential": [
            [
             0,
             "#0d0887"
            ],
            [
             0.1111111111111111,
             "#46039f"
            ],
            [
             0.2222222222222222,
             "#7201a8"
            ],
            [
             0.3333333333333333,
             "#9c179e"
            ],
            [
             0.4444444444444444,
             "#bd3786"
            ],
            [
             0.5555555555555556,
             "#d8576b"
            ],
            [
             0.6666666666666666,
             "#ed7953"
            ],
            [
             0.7777777777777778,
             "#fb9f3a"
            ],
            [
             0.8888888888888888,
             "#fdca26"
            ],
            [
             1,
             "#f0f921"
            ]
           ],
           "sequentialminus": [
            [
             0,
             "#0d0887"
            ],
            [
             0.1111111111111111,
             "#46039f"
            ],
            [
             0.2222222222222222,
             "#7201a8"
            ],
            [
             0.3333333333333333,
             "#9c179e"
            ],
            [
             0.4444444444444444,
             "#bd3786"
            ],
            [
             0.5555555555555556,
             "#d8576b"
            ],
            [
             0.6666666666666666,
             "#ed7953"
            ],
            [
             0.7777777777777778,
             "#fb9f3a"
            ],
            [
             0.8888888888888888,
             "#fdca26"
            ],
            [
             1,
             "#f0f921"
            ]
           ]
          },
          "colorway": [
           "#636efa",
           "#EF553B",
           "#00cc96",
           "#ab63fa",
           "#FFA15A",
           "#19d3f3",
           "#FF6692",
           "#B6E880",
           "#FF97FF",
           "#FECB52"
          ],
          "font": {
           "color": "#2a3f5f"
          },
          "geo": {
           "bgcolor": "white",
           "lakecolor": "white",
           "landcolor": "#E5ECF6",
           "showlakes": true,
           "showland": true,
           "subunitcolor": "white"
          },
          "hoverlabel": {
           "align": "left"
          },
          "hovermode": "closest",
          "mapbox": {
           "style": "light"
          },
          "paper_bgcolor": "white",
          "plot_bgcolor": "#E5ECF6",
          "polar": {
           "angularaxis": {
            "gridcolor": "white",
            "linecolor": "white",
            "ticks": ""
           },
           "bgcolor": "#E5ECF6",
           "radialaxis": {
            "gridcolor": "white",
            "linecolor": "white",
            "ticks": ""
           }
          },
          "scene": {
           "xaxis": {
            "backgroundcolor": "#E5ECF6",
            "gridcolor": "white",
            "gridwidth": 2,
            "linecolor": "white",
            "showbackground": true,
            "ticks": "",
            "zerolinecolor": "white"
           },
           "yaxis": {
            "backgroundcolor": "#E5ECF6",
            "gridcolor": "white",
            "gridwidth": 2,
            "linecolor": "white",
            "showbackground": true,
            "ticks": "",
            "zerolinecolor": "white"
           },
           "zaxis": {
            "backgroundcolor": "#E5ECF6",
            "gridcolor": "white",
            "gridwidth": 2,
            "linecolor": "white",
            "showbackground": true,
            "ticks": "",
            "zerolinecolor": "white"
           }
          },
          "shapedefaults": {
           "line": {
            "color": "#2a3f5f"
           }
          },
          "ternary": {
           "aaxis": {
            "gridcolor": "white",
            "linecolor": "white",
            "ticks": ""
           },
           "baxis": {
            "gridcolor": "white",
            "linecolor": "white",
            "ticks": ""
           },
           "bgcolor": "#E5ECF6",
           "caxis": {
            "gridcolor": "white",
            "linecolor": "white",
            "ticks": ""
           }
          },
          "title": {
           "x": 0.05
          },
          "xaxis": {
           "automargin": true,
           "gridcolor": "white",
           "linecolor": "white",
           "ticks": "",
           "title": {
            "standoff": 15
           },
           "zerolinecolor": "white",
           "zerolinewidth": 2
          },
          "yaxis": {
           "automargin": true,
           "gridcolor": "white",
           "linecolor": "white",
           "ticks": "",
           "title": {
            "standoff": 15
           },
           "zerolinecolor": "white",
           "zerolinewidth": 2
          }
         }
        },
        "title": {
         "text": "F1-Score Default Detection"
        },
        "xaxis": {
         "title": {
          "text": "Method"
         }
        },
        "yaxis": {
         "title": {
          "text": "F1-Score"
         }
        }
       }
      }
     },
     "metadata": {},
     "output_type": "display_data"
    }
   ],
   "source": [
    "import plotly.graph_objects as go\n",
    "import plotly.express as px\n",
    "\n",
    "# Data\n",
    "methods = [\"A: Median\", \"B: Lin Regress\", \"C: KNN\", \"D: Listwise\"]\n",
    "f1_scores = [0.3557, 0.3592, 0.3601, 0.3706]\n",
    "\n",
    "# Create bar chart\n",
    "fig = go.Figure()\n",
    "\n",
    "# Add bars with different colors from the brand palette\n",
    "colors = ['#1FB8CD', '#DB4545', '#2E8B57', '#5D878F']\n",
    "\n",
    "fig.add_trace(go.Bar(\n",
    "    x=methods,\n",
    "    y=f1_scores,\n",
    "    marker_color=colors,\n",
    "    text=[f'{score:.2f}' for score in f1_scores],\n",
    "    textposition='outside',\n",
    "    showlegend=False\n",
    "))\n",
    "\n",
    "# Update layout\n",
    "fig.update_layout(\n",
    "    title=\"F1-Score Default Detection\",\n",
    "    xaxis_title=\"Method\",\n",
    "    yaxis_title=\"F1-Score\"\n",
    ")\n",
    "\n",
    "# Update traces for better visualization\n",
    "fig.update_traces(cliponaxis=False)\n",
    "\n",
    "fig.show()"
   ]
  },
  {
   "cell_type": "code",
   "execution_count": 21,
   "id": "790160ed",
   "metadata": {},
   "outputs": [
    {
     "data": {
      "application/vnd.plotly.v1+json": {
       "config": {
        "plotlyServerURL": "https://plot.ly"
       },
       "data": [
        {
         "colorbar": {
          "title": {
           "text": "Performance"
          }
         },
         "colorscale": [
          [
           0,
           "#440154"
          ],
          [
           0.1111111111111111,
           "#482878"
          ],
          [
           0.2222222222222222,
           "#3e4989"
          ],
          [
           0.3333333333333333,
           "#31688e"
          ],
          [
           0.4444444444444444,
           "#26828e"
          ],
          [
           0.5555555555555556,
           "#1f9e89"
          ],
          [
           0.6666666666666666,
           "#35b779"
          ],
          [
           0.7777777777777778,
           "#6ece58"
          ],
          [
           0.8888888888888888,
           "#b5de2b"
          ],
          [
           1,
           "#fde725"
          ]
         ],
         "hoverongaps": false,
         "text": {
          "bdata": "QmDl0CLb6T9Q/Bhz1xLmP5eQD3o2q84/FvvL7snD1j8bDeAtkKDoP6wcWmQ73+k/6SYxCKwc5j8bnl4pyxDPP+lILv8h/dY/8IXJVMGo6D9wzojS3uDpPzY8vVKWIeY/1lbsL7snzz/OiNLe4AvXP5eQD3o2q+g/K4cW2c736T/njCjtDb7mP13cRgN4C9A/R3L5D+m31z+At0CC4sfoPw==",
          "dtype": "f8",
          "shape": "4, 5"
         },
         "textfont": {
          "color": "white",
          "size": 14
         },
         "texttemplate": "%{text}",
         "type": "heatmap",
         "x": [
          "Accuracy",
          "Precision C1",
          "Recall C1",
          "F1 C1",
          "Weighted F1"
         ],
         "y": [
          "A: Median",
          "B: Linear",
          "C: KNN",
          "D: Listwise"
         ],
         "z": {
          "bdata": "QmDl0CLb6T9Q/Bhz1xLmP5eQD3o2q84/FvvL7snD1j8bDeAtkKDoP6wcWmQ73+k/6SYxCKwc5j8bnl4pyxDPP+lILv8h/dY/8IXJVMGo6D9wzojS3uDpPzY8vVKWIeY/1lbsL7snzz/OiNLe4AvXP5eQD3o2q+g/K4cW2c736T/njCjtDb7mP13cRgN4C9A/R3L5D+m31z+At0CC4sfoPw==",
          "dtype": "f8",
          "shape": "4, 5"
         }
        }
       ],
       "layout": {
        "template": {
         "data": {
          "bar": [
           {
            "error_x": {
             "color": "#2a3f5f"
            },
            "error_y": {
             "color": "#2a3f5f"
            },
            "marker": {
             "line": {
              "color": "#E5ECF6",
              "width": 0.5
             },
             "pattern": {
              "fillmode": "overlay",
              "size": 10,
              "solidity": 0.2
             }
            },
            "type": "bar"
           }
          ],
          "barpolar": [
           {
            "marker": {
             "line": {
              "color": "#E5ECF6",
              "width": 0.5
             },
             "pattern": {
              "fillmode": "overlay",
              "size": 10,
              "solidity": 0.2
             }
            },
            "type": "barpolar"
           }
          ],
          "carpet": [
           {
            "aaxis": {
             "endlinecolor": "#2a3f5f",
             "gridcolor": "white",
             "linecolor": "white",
             "minorgridcolor": "white",
             "startlinecolor": "#2a3f5f"
            },
            "baxis": {
             "endlinecolor": "#2a3f5f",
             "gridcolor": "white",
             "linecolor": "white",
             "minorgridcolor": "white",
             "startlinecolor": "#2a3f5f"
            },
            "type": "carpet"
           }
          ],
          "choropleth": [
           {
            "colorbar": {
             "outlinewidth": 0,
             "ticks": ""
            },
            "type": "choropleth"
           }
          ],
          "contour": [
           {
            "colorbar": {
             "outlinewidth": 0,
             "ticks": ""
            },
            "colorscale": [
             [
              0,
              "#0d0887"
             ],
             [
              0.1111111111111111,
              "#46039f"
             ],
             [
              0.2222222222222222,
              "#7201a8"
             ],
             [
              0.3333333333333333,
              "#9c179e"
             ],
             [
              0.4444444444444444,
              "#bd3786"
             ],
             [
              0.5555555555555556,
              "#d8576b"
             ],
             [
              0.6666666666666666,
              "#ed7953"
             ],
             [
              0.7777777777777778,
              "#fb9f3a"
             ],
             [
              0.8888888888888888,
              "#fdca26"
             ],
             [
              1,
              "#f0f921"
             ]
            ],
            "type": "contour"
           }
          ],
          "contourcarpet": [
           {
            "colorbar": {
             "outlinewidth": 0,
             "ticks": ""
            },
            "type": "contourcarpet"
           }
          ],
          "heatmap": [
           {
            "colorbar": {
             "outlinewidth": 0,
             "ticks": ""
            },
            "colorscale": [
             [
              0,
              "#0d0887"
             ],
             [
              0.1111111111111111,
              "#46039f"
             ],
             [
              0.2222222222222222,
              "#7201a8"
             ],
             [
              0.3333333333333333,
              "#9c179e"
             ],
             [
              0.4444444444444444,
              "#bd3786"
             ],
             [
              0.5555555555555556,
              "#d8576b"
             ],
             [
              0.6666666666666666,
              "#ed7953"
             ],
             [
              0.7777777777777778,
              "#fb9f3a"
             ],
             [
              0.8888888888888888,
              "#fdca26"
             ],
             [
              1,
              "#f0f921"
             ]
            ],
            "type": "heatmap"
           }
          ],
          "histogram": [
           {
            "marker": {
             "pattern": {
              "fillmode": "overlay",
              "size": 10,
              "solidity": 0.2
             }
            },
            "type": "histogram"
           }
          ],
          "histogram2d": [
           {
            "colorbar": {
             "outlinewidth": 0,
             "ticks": ""
            },
            "colorscale": [
             [
              0,
              "#0d0887"
             ],
             [
              0.1111111111111111,
              "#46039f"
             ],
             [
              0.2222222222222222,
              "#7201a8"
             ],
             [
              0.3333333333333333,
              "#9c179e"
             ],
             [
              0.4444444444444444,
              "#bd3786"
             ],
             [
              0.5555555555555556,
              "#d8576b"
             ],
             [
              0.6666666666666666,
              "#ed7953"
             ],
             [
              0.7777777777777778,
              "#fb9f3a"
             ],
             [
              0.8888888888888888,
              "#fdca26"
             ],
             [
              1,
              "#f0f921"
             ]
            ],
            "type": "histogram2d"
           }
          ],
          "histogram2dcontour": [
           {
            "colorbar": {
             "outlinewidth": 0,
             "ticks": ""
            },
            "colorscale": [
             [
              0,
              "#0d0887"
             ],
             [
              0.1111111111111111,
              "#46039f"
             ],
             [
              0.2222222222222222,
              "#7201a8"
             ],
             [
              0.3333333333333333,
              "#9c179e"
             ],
             [
              0.4444444444444444,
              "#bd3786"
             ],
             [
              0.5555555555555556,
              "#d8576b"
             ],
             [
              0.6666666666666666,
              "#ed7953"
             ],
             [
              0.7777777777777778,
              "#fb9f3a"
             ],
             [
              0.8888888888888888,
              "#fdca26"
             ],
             [
              1,
              "#f0f921"
             ]
            ],
            "type": "histogram2dcontour"
           }
          ],
          "mesh3d": [
           {
            "colorbar": {
             "outlinewidth": 0,
             "ticks": ""
            },
            "type": "mesh3d"
           }
          ],
          "parcoords": [
           {
            "line": {
             "colorbar": {
              "outlinewidth": 0,
              "ticks": ""
             }
            },
            "type": "parcoords"
           }
          ],
          "pie": [
           {
            "automargin": true,
            "type": "pie"
           }
          ],
          "scatter": [
           {
            "fillpattern": {
             "fillmode": "overlay",
             "size": 10,
             "solidity": 0.2
            },
            "type": "scatter"
           }
          ],
          "scatter3d": [
           {
            "line": {
             "colorbar": {
              "outlinewidth": 0,
              "ticks": ""
             }
            },
            "marker": {
             "colorbar": {
              "outlinewidth": 0,
              "ticks": ""
             }
            },
            "type": "scatter3d"
           }
          ],
          "scattercarpet": [
           {
            "marker": {
             "colorbar": {
              "outlinewidth": 0,
              "ticks": ""
             }
            },
            "type": "scattercarpet"
           }
          ],
          "scattergeo": [
           {
            "marker": {
             "colorbar": {
              "outlinewidth": 0,
              "ticks": ""
             }
            },
            "type": "scattergeo"
           }
          ],
          "scattergl": [
           {
            "marker": {
             "colorbar": {
              "outlinewidth": 0,
              "ticks": ""
             }
            },
            "type": "scattergl"
           }
          ],
          "scattermap": [
           {
            "marker": {
             "colorbar": {
              "outlinewidth": 0,
              "ticks": ""
             }
            },
            "type": "scattermap"
           }
          ],
          "scattermapbox": [
           {
            "marker": {
             "colorbar": {
              "outlinewidth": 0,
              "ticks": ""
             }
            },
            "type": "scattermapbox"
           }
          ],
          "scatterpolar": [
           {
            "marker": {
             "colorbar": {
              "outlinewidth": 0,
              "ticks": ""
             }
            },
            "type": "scatterpolar"
           }
          ],
          "scatterpolargl": [
           {
            "marker": {
             "colorbar": {
              "outlinewidth": 0,
              "ticks": ""
             }
            },
            "type": "scatterpolargl"
           }
          ],
          "scatterternary": [
           {
            "marker": {
             "colorbar": {
              "outlinewidth": 0,
              "ticks": ""
             }
            },
            "type": "scatterternary"
           }
          ],
          "surface": [
           {
            "colorbar": {
             "outlinewidth": 0,
             "ticks": ""
            },
            "colorscale": [
             [
              0,
              "#0d0887"
             ],
             [
              0.1111111111111111,
              "#46039f"
             ],
             [
              0.2222222222222222,
              "#7201a8"
             ],
             [
              0.3333333333333333,
              "#9c179e"
             ],
             [
              0.4444444444444444,
              "#bd3786"
             ],
             [
              0.5555555555555556,
              "#d8576b"
             ],
             [
              0.6666666666666666,
              "#ed7953"
             ],
             [
              0.7777777777777778,
              "#fb9f3a"
             ],
             [
              0.8888888888888888,
              "#fdca26"
             ],
             [
              1,
              "#f0f921"
             ]
            ],
            "type": "surface"
           }
          ],
          "table": [
           {
            "cells": {
             "fill": {
              "color": "#EBF0F8"
             },
             "line": {
              "color": "white"
             }
            },
            "header": {
             "fill": {
              "color": "#C8D4E3"
             },
             "line": {
              "color": "white"
             }
            },
            "type": "table"
           }
          ]
         },
         "layout": {
          "annotationdefaults": {
           "arrowcolor": "#2a3f5f",
           "arrowhead": 0,
           "arrowwidth": 1
          },
          "autotypenumbers": "strict",
          "coloraxis": {
           "colorbar": {
            "outlinewidth": 0,
            "ticks": ""
           }
          },
          "colorscale": {
           "diverging": [
            [
             0,
             "#8e0152"
            ],
            [
             0.1,
             "#c51b7d"
            ],
            [
             0.2,
             "#de77ae"
            ],
            [
             0.3,
             "#f1b6da"
            ],
            [
             0.4,
             "#fde0ef"
            ],
            [
             0.5,
             "#f7f7f7"
            ],
            [
             0.6,
             "#e6f5d0"
            ],
            [
             0.7,
             "#b8e186"
            ],
            [
             0.8,
             "#7fbc41"
            ],
            [
             0.9,
             "#4d9221"
            ],
            [
             1,
             "#276419"
            ]
           ],
           "sequential": [
            [
             0,
             "#0d0887"
            ],
            [
             0.1111111111111111,
             "#46039f"
            ],
            [
             0.2222222222222222,
             "#7201a8"
            ],
            [
             0.3333333333333333,
             "#9c179e"
            ],
            [
             0.4444444444444444,
             "#bd3786"
            ],
            [
             0.5555555555555556,
             "#d8576b"
            ],
            [
             0.6666666666666666,
             "#ed7953"
            ],
            [
             0.7777777777777778,
             "#fb9f3a"
            ],
            [
             0.8888888888888888,
             "#fdca26"
            ],
            [
             1,
             "#f0f921"
            ]
           ],
           "sequentialminus": [
            [
             0,
             "#0d0887"
            ],
            [
             0.1111111111111111,
             "#46039f"
            ],
            [
             0.2222222222222222,
             "#7201a8"
            ],
            [
             0.3333333333333333,
             "#9c179e"
            ],
            [
             0.4444444444444444,
             "#bd3786"
            ],
            [
             0.5555555555555556,
             "#d8576b"
            ],
            [
             0.6666666666666666,
             "#ed7953"
            ],
            [
             0.7777777777777778,
             "#fb9f3a"
            ],
            [
             0.8888888888888888,
             "#fdca26"
            ],
            [
             1,
             "#f0f921"
            ]
           ]
          },
          "colorway": [
           "#636efa",
           "#EF553B",
           "#00cc96",
           "#ab63fa",
           "#FFA15A",
           "#19d3f3",
           "#FF6692",
           "#B6E880",
           "#FF97FF",
           "#FECB52"
          ],
          "font": {
           "color": "#2a3f5f"
          },
          "geo": {
           "bgcolor": "white",
           "lakecolor": "white",
           "landcolor": "#E5ECF6",
           "showlakes": true,
           "showland": true,
           "subunitcolor": "white"
          },
          "hoverlabel": {
           "align": "left"
          },
          "hovermode": "closest",
          "mapbox": {
           "style": "light"
          },
          "paper_bgcolor": "white",
          "plot_bgcolor": "#E5ECF6",
          "polar": {
           "angularaxis": {
            "gridcolor": "white",
            "linecolor": "white",
            "ticks": ""
           },
           "bgcolor": "#E5ECF6",
           "radialaxis": {
            "gridcolor": "white",
            "linecolor": "white",
            "ticks": ""
           }
          },
          "scene": {
           "xaxis": {
            "backgroundcolor": "#E5ECF6",
            "gridcolor": "white",
            "gridwidth": 2,
            "linecolor": "white",
            "showbackground": true,
            "ticks": "",
            "zerolinecolor": "white"
           },
           "yaxis": {
            "backgroundcolor": "#E5ECF6",
            "gridcolor": "white",
            "gridwidth": 2,
            "linecolor": "white",
            "showbackground": true,
            "ticks": "",
            "zerolinecolor": "white"
           },
           "zaxis": {
            "backgroundcolor": "#E5ECF6",
            "gridcolor": "white",
            "gridwidth": 2,
            "linecolor": "white",
            "showbackground": true,
            "ticks": "",
            "zerolinecolor": "white"
           }
          },
          "shapedefaults": {
           "line": {
            "color": "#2a3f5f"
           }
          },
          "ternary": {
           "aaxis": {
            "gridcolor": "white",
            "linecolor": "white",
            "ticks": ""
           },
           "baxis": {
            "gridcolor": "white",
            "linecolor": "white",
            "ticks": ""
           },
           "bgcolor": "#E5ECF6",
           "caxis": {
            "gridcolor": "white",
            "linecolor": "white",
            "ticks": ""
           }
          },
          "title": {
           "x": 0.05
          },
          "xaxis": {
           "automargin": true,
           "gridcolor": "white",
           "linecolor": "white",
           "ticks": "",
           "title": {
            "standoff": 15
           },
           "zerolinecolor": "white",
           "zerolinewidth": 2
          },
          "yaxis": {
           "automargin": true,
           "gridcolor": "white",
           "linecolor": "white",
           "ticks": "",
           "title": {
            "standoff": 15
           },
           "zerolinecolor": "white",
           "zerolinewidth": 2
          }
         }
        },
        "title": {
         "text": "Method Performance Comparison"
        },
        "xaxis": {
         "side": "bottom",
         "title": {
          "text": "Metrics"
         }
        },
        "yaxis": {
         "side": "left",
         "title": {
          "text": "Methods"
         }
        }
       }
      }
     },
     "metadata": {},
     "output_type": "display_data"
    }
   ],
   "source": [
    "import pandas as pd\n",
    "import plotly.graph_objects as go\n",
    "import numpy as np\n",
    "\n",
    "# Create the data from the provided JSON\n",
    "data = {\n",
    "    \"Method\": [\"A: Median Imputation\", \"B: Linear Regression\", \"C: KNN Regression\", \"D: Listwise Deletion\"], \n",
    "    \"Accuracy\": [0.8080, 0.8085, 0.8087, 0.8115], \n",
    "    \"Precision_Class_1\": [0.6898, 0.6910, 0.6916, 0.7107], \n",
    "    \"Recall_Class_1\": [0.2396, 0.2427, 0.2434, 0.2507], \n",
    "    \"F1_Class_1\": [0.3557, 0.3592, 0.3601, 0.3706], \n",
    "    \"Weighted_F1\": [0.7696, 0.7706, 0.7709, 0.7744]\n",
    "}\n",
    "\n",
    "df = pd.DataFrame(data)\n",
    "\n",
    "# Prepare data for heatmap - set methods as index\n",
    "df_viz = df.set_index('Method')\n",
    "\n",
    "# Shorten column names to fit 15 character limit\n",
    "df_viz.columns = ['Accuracy', 'Precision C1', 'Recall C1', 'F1 C1', 'Weighted F1']\n",
    "\n",
    "# Shorten method names to fit 15 character limit\n",
    "df_viz.index = ['A: Median', 'B: Linear', 'C: KNN', 'D: Listwise']\n",
    "\n",
    "# Create heatmap with darker colors representing better performance\n",
    "fig = go.Figure(data=go.Heatmap(\n",
    "    z=df_viz.values,\n",
    "    x=df_viz.columns,\n",
    "    y=df_viz.index,\n",
    "    colorscale='viridis',  # Blues scale where darker = higher values = better performance\n",
    "    text=np.round(df_viz.values, 4),\n",
    "    texttemplate=\"%{text}\",\n",
    "    textfont={\"size\": 14, \"color\": \"white\"},\n",
    "    hoverongaps=False,\n",
    "    colorbar=dict(title=\"Performance\")\n",
    "))\n",
    "\n",
    "fig.update_layout(\n",
    "    title=\"Method Performance Comparison\",\n",
    "    xaxis_title=\"Metrics\",\n",
    "    yaxis_title=\"Methods\"\n",
    ")\n",
    "\n",
    "fig.update_xaxes(side=\"bottom\")\n",
    "fig.update_yaxes(side=\"left\")\n",
    "fig.show()"
   ]
  },
  {
   "cell_type": "markdown",
   "id": "2b583d2d",
   "metadata": {},
   "source": [
    "##### Model trained on Dataset D performs best!\n",
    "\n",
    "---\n",
    "\n",
    "### PART C.2: Efficacy Discussion\n",
    "\n",
    "#### 1. LISTWISE DELETION vs IMPUTATION TRADE-OFF \n",
    "\n",
    "Sample Size Analysis:\n",
    "- Original dataset: 30,000 samples\n",
    "- Listwise deletion: 25,676 samples (4,324 lost, 14.4% reduction)\n",
    "- Imputation methods: 30,000 samples (no loss)\n",
    "\n",
    "Performance vs Sample Size Trade-off:\n",
    "- Despite losing 4,324 samples, Listwise Deletion performed best\n",
    "- This suggests the missing data pattern was informative or imputation introduced noise\n",
    "\n",
    "Why Listwise Deletion might outperform despite fewer samples:\n",
    "1. Data Quality: Removed samples may have been systematically different\n",
    "2. Model Complexity: With fewer, higher-quality samples, the model may generalize better\n",
    "3. Missing Pattern: The missingness itself might be informative for prediction\n",
    "4. Imputation Error: Incorrect imputed values can mislead the model\n",
    "\n",
    "#### 2. LINEAR vs NON-LINEAR REGRESSION COMPARISON \n",
    "\n",
    "Performance Comparison:\n",
    "- Linear Regression: F1-Class1 = 0.3592, Accuracy = 0.8085\n",
    "- KNN Regression: F1-Class1 = 0.3601, Accuracy = 0.8087\n",
    "- Performance difference: 0.0009 (minimal)\n",
    "\n",
    "Why KNN performed slightly better:\n",
    "1. Non-linear relationships: KNN can capture complex, non-linear patterns\n",
    "2. Local similarity: KNN finds samples most similar to missing ones\n",
    "3. Flexibility: No assumption of linear relationship between variables\n",
    "4. Robustness: Less affected by outliers in the relationship\n",
    "\n",
    "Linear Regression Analysis:\n",
    "- R-squared: 0.9300 (very high, suggesting strong linear relationships)\n",
    "- This explains why Linear and KNN performed similarly\n",
    "- Strong linear relationships mean linear imputation is nearly optimal\n",
    "\n",
    "#### 3. OVERALL RECOMMENDATIONS \n",
    "\n",
    "Best Overall Performance: D (Listwise Deletion) \\\n",
    "Best Default Detection: D (Listwise Deletion)\n",
    "\n",
    "Recommendation: LISTWISE DELETION\n",
    "\n",
    "Justification:\n",
    "1. Highest performance across all metrics despite smaller sample size\n",
    "2. Simpler approach with no risk of imputation errors\n",
    "3. In this dataset, missing pattern appears informative\n",
    "4. 14.4% sample loss is acceptable given performance gains\n",
    "\n",
    "When to use each method:\n",
    "- Listwise Deletion: When missing % is small (<20%) and missingness is informative\n",
    "- Median Imputation: Quick baseline, interpretable, robust to outliers\n",
    "- Linear Regression: When strong linear relationships exist (high R²)\n",
    "- Non-linear Regression: When relationships are complex and non-linear\n",
    "\n",
    "Cautionary Notes:\n",
    "1. Results may vary with different missing patterns and percentages\n",
    "2. Domain knowledge should guide the choice of imputation method\n",
    "3. Multiple imputation methods could be explored for better results\n",
    "4. The class imbalance (78% vs 22%) affects all methods similarly"
   ]
  }
 ],
 "metadata": {
  "kernelspec": {
   "display_name": "Python 3",
   "language": "python",
   "name": "python3"
  },
  "language_info": {
   "codemirror_mode": {
    "name": "ipython",
    "version": 3
   },
   "file_extension": ".py",
   "mimetype": "text/x-python",
   "name": "python",
   "nbconvert_exporter": "python",
   "pygments_lexer": "ipython3",
   "version": "3.13.3"
  }
 },
 "nbformat": 4,
 "nbformat_minor": 5
}
